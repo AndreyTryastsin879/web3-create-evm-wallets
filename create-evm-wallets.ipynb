{
 "cells": [
  {
   "cell_type": "markdown",
   "id": "df567079",
   "metadata": {},
   "source": [
    "# Создание кошельков"
   ]
  },
  {
   "cell_type": "markdown",
   "id": "f739b24f",
   "metadata": {},
   "source": [
    "## Вариант 1 - создание приватных ключей"
   ]
  },
  {
   "cell_type": "markdown",
   "id": "463e44b5",
   "metadata": {},
   "source": [
    "create-evm-wallets-var-1.py. В этом варианте для каждого аккаунта будут созданы публичные адреса и приватные ключи."
   ]
  },
  {
   "cell_type": "markdown",
   "id": "173f341c",
   "metadata": {},
   "source": [
    "### Импорт библиотек"
   ]
  },
  {
   "cell_type": "code",
   "execution_count": 1,
   "id": "dcffd70e",
   "metadata": {},
   "outputs": [],
   "source": [
    "from web3 import Web3\n",
    "import pandas as pd"
   ]
  },
  {
   "cell_type": "markdown",
   "id": "8e4dac4d",
   "metadata": {},
   "source": [
    "### Сколько аккаунтов генерировать"
   ]
  },
  {
   "cell_type": "code",
   "execution_count": 2,
   "id": "0f5a1442",
   "metadata": {},
   "outputs": [],
   "source": [
    "ACCOUNTS_QUANTITY = 10"
   ]
  },
  {
   "cell_type": "markdown",
   "id": "62196a53",
   "metadata": {},
   "source": [
    "### Подключение"
   ]
  },
  {
   "cell_type": "code",
   "execution_count": 3,
   "id": "c63c59ec",
   "metadata": {},
   "outputs": [],
   "source": [
    "connection = Web3()"
   ]
  },
  {
   "cell_type": "markdown",
   "id": "201fb131",
   "metadata": {},
   "source": [
    "### Создание аккаунтов, запись публичных адресов и приватных ключей в excel или txt"
   ]
  },
  {
   "cell_type": "markdown",
   "id": "983f1b02",
   "metadata": {},
   "source": [
    "В цикле создается аккаунт connection.eth.account.create() и записывается в переменную account. При каждой итерации создается словарь с публичным адресом address и приватным ключом private_key, словарь записывается в список list_of_dicts:"
   ]
  },
  {
   "cell_type": "code",
   "execution_count": 4,
   "id": "3d1b8fe5",
   "metadata": {},
   "outputs": [
    {
     "name": "stdout",
     "output_type": "stream",
     "text": [
      "Account 1 \n",
      " Public: 0xFB253eC84c12721CcA67AaF7a69e271fa4204036 \n",
      " Private_key: 0x1228acff942e0b0927ee5c17fdab68fcafbfc806e35dad3e2c00a05f8ac943a2 \n",
      " --------------------------\n",
      "Account 2 \n",
      " Public: 0x3E35FF33E4e03025a4177271e7218a16206a1BF2 \n",
      " Private_key: 0xada6bc666a9a375f288d41f577e34c068d1928c635762e272c607157d5740fca \n",
      " --------------------------\n",
      "Account 3 \n",
      " Public: 0x9B044149a602907c34Ac1EDAc7c1f42eE5Ca51F2 \n",
      " Private_key: 0xe766c366828100d691a7a9625e209e17ad3b7733345dc0c957d3c15c64e80175 \n",
      " --------------------------\n",
      "Account 4 \n",
      " Public: 0xCEB770895658AD59d28e90638A91196D3E3b3087 \n",
      " Private_key: 0xb0f09767df837be2269bb0ad64c963c0f4eedfab0c58238660ea80f08c284117 \n",
      " --------------------------\n",
      "Account 5 \n",
      " Public: 0xe5C3506e98352350dCE492B7aBb621bd4ebb9768 \n",
      " Private_key: 0x8d32e6be600194d42197330dc8a63317353335e2fe13bede8caa187bd9060e63 \n",
      " --------------------------\n",
      "Account 6 \n",
      " Public: 0xa419Ec62A2CA9bb17851DFe7511CbcFB2D9afA0f \n",
      " Private_key: 0xe1e2750da1fe82d26aa939b2edfaacc2490a44eee56a5dbdeb4cbca7b332ec97 \n",
      " --------------------------\n",
      "Account 7 \n",
      " Public: 0xcC24008b9e93A0B7eC891554F7999087E37f43B8 \n",
      " Private_key: 0xdd9e9e606b999707b133c0b846b53411f5cd8cddaf2a444f9d532963938cfb16 \n",
      " --------------------------\n",
      "Account 8 \n",
      " Public: 0x8D9129520186Dd744024Ca125690236560f759c2 \n",
      " Private_key: 0xc3a1a748ff71cb6ca89528402deca1a2c984ee0edc7cae464973a502a072f493 \n",
      " --------------------------\n",
      "Account 9 \n",
      " Public: 0x751d5D2E111d4e841F680876D9E8ee601ADBf393 \n",
      " Private_key: 0x352e3e84db8416965d3c3b2fa22c4dd4c5700ef11e120b934c0022b52e729053 \n",
      " --------------------------\n",
      "Account 10 \n",
      " Public: 0xCc9A93278B7903d94D57009B14e3A1c684F5F607 \n",
      " Private_key: 0x848cc83acde5a5642d3e126508f47487bc0340786004cc0412d22cdc752ffd82 \n",
      " --------------------------\n"
     ]
    }
   ],
   "source": [
    "list_of_dicts = []\n",
    "for number in range(ACCOUNTS_QUANTITY):\n",
    "    account = connection.eth.account.create()\n",
    "    address = account.address\n",
    "    private_key = account.key.hex()\n",
    "    \n",
    "    print('Account', number+1, '\\n',\n",
    "          'Public:', address, '\\n',\n",
    "          'Private_key:', private_key, '\\n',\n",
    "          '--------------------------')\n",
    "    \n",
    "    dictionary = dict()\n",
    "    dictionary['address'] = address\n",
    "    dictionary['private_key'] = private_key\n",
    "    \n",
    "    list_of_dicts.append(dictionary)"
   ]
  },
  {
   "cell_type": "markdown",
   "id": "50a0808a",
   "metadata": {},
   "source": [
    "#### Запись в Excel"
   ]
  },
  {
   "cell_type": "markdown",
   "id": "4009f411",
   "metadata": {},
   "source": [
    "Из списка list_of_dicts создается датафрейм:"
   ]
  },
  {
   "cell_type": "code",
   "execution_count": 5,
   "id": "35c34979",
   "metadata": {},
   "outputs": [],
   "source": [
    "df = pd.DataFrame.from_dict(list_of_dicts)"
   ]
  },
  {
   "cell_type": "code",
   "execution_count": 6,
   "id": "eb50fd39",
   "metadata": {
    "scrolled": true
   },
   "outputs": [
    {
     "data": {
      "text/html": [
       "<div>\n",
       "<style scoped>\n",
       "    .dataframe tbody tr th:only-of-type {\n",
       "        vertical-align: middle;\n",
       "    }\n",
       "\n",
       "    .dataframe tbody tr th {\n",
       "        vertical-align: top;\n",
       "    }\n",
       "\n",
       "    .dataframe thead th {\n",
       "        text-align: right;\n",
       "    }\n",
       "</style>\n",
       "<table border=\"1\" class=\"dataframe\">\n",
       "  <thead>\n",
       "    <tr style=\"text-align: right;\">\n",
       "      <th></th>\n",
       "      <th>address</th>\n",
       "      <th>private_key</th>\n",
       "    </tr>\n",
       "  </thead>\n",
       "  <tbody>\n",
       "    <tr>\n",
       "      <th>0</th>\n",
       "      <td>0xFB253eC84c12721CcA67AaF7a69e271fa4204036</td>\n",
       "      <td>0x1228acff942e0b0927ee5c17fdab68fcafbfc806e35d...</td>\n",
       "    </tr>\n",
       "    <tr>\n",
       "      <th>1</th>\n",
       "      <td>0x3E35FF33E4e03025a4177271e7218a16206a1BF2</td>\n",
       "      <td>0xada6bc666a9a375f288d41f577e34c068d1928c63576...</td>\n",
       "    </tr>\n",
       "    <tr>\n",
       "      <th>2</th>\n",
       "      <td>0x9B044149a602907c34Ac1EDAc7c1f42eE5Ca51F2</td>\n",
       "      <td>0xe766c366828100d691a7a9625e209e17ad3b7733345d...</td>\n",
       "    </tr>\n",
       "    <tr>\n",
       "      <th>3</th>\n",
       "      <td>0xCEB770895658AD59d28e90638A91196D3E3b3087</td>\n",
       "      <td>0xb0f09767df837be2269bb0ad64c963c0f4eedfab0c58...</td>\n",
       "    </tr>\n",
       "    <tr>\n",
       "      <th>4</th>\n",
       "      <td>0xe5C3506e98352350dCE492B7aBb621bd4ebb9768</td>\n",
       "      <td>0x8d32e6be600194d42197330dc8a63317353335e2fe13...</td>\n",
       "    </tr>\n",
       "    <tr>\n",
       "      <th>5</th>\n",
       "      <td>0xa419Ec62A2CA9bb17851DFe7511CbcFB2D9afA0f</td>\n",
       "      <td>0xe1e2750da1fe82d26aa939b2edfaacc2490a44eee56a...</td>\n",
       "    </tr>\n",
       "    <tr>\n",
       "      <th>6</th>\n",
       "      <td>0xcC24008b9e93A0B7eC891554F7999087E37f43B8</td>\n",
       "      <td>0xdd9e9e606b999707b133c0b846b53411f5cd8cddaf2a...</td>\n",
       "    </tr>\n",
       "    <tr>\n",
       "      <th>7</th>\n",
       "      <td>0x8D9129520186Dd744024Ca125690236560f759c2</td>\n",
       "      <td>0xc3a1a748ff71cb6ca89528402deca1a2c984ee0edc7c...</td>\n",
       "    </tr>\n",
       "    <tr>\n",
       "      <th>8</th>\n",
       "      <td>0x751d5D2E111d4e841F680876D9E8ee601ADBf393</td>\n",
       "      <td>0x352e3e84db8416965d3c3b2fa22c4dd4c5700ef11e12...</td>\n",
       "    </tr>\n",
       "    <tr>\n",
       "      <th>9</th>\n",
       "      <td>0xCc9A93278B7903d94D57009B14e3A1c684F5F607</td>\n",
       "      <td>0x848cc83acde5a5642d3e126508f47487bc0340786004...</td>\n",
       "    </tr>\n",
       "  </tbody>\n",
       "</table>\n",
       "</div>"
      ],
      "text/plain": [
       "                                      address  \\\n",
       "0  0xFB253eC84c12721CcA67AaF7a69e271fa4204036   \n",
       "1  0x3E35FF33E4e03025a4177271e7218a16206a1BF2   \n",
       "2  0x9B044149a602907c34Ac1EDAc7c1f42eE5Ca51F2   \n",
       "3  0xCEB770895658AD59d28e90638A91196D3E3b3087   \n",
       "4  0xe5C3506e98352350dCE492B7aBb621bd4ebb9768   \n",
       "5  0xa419Ec62A2CA9bb17851DFe7511CbcFB2D9afA0f   \n",
       "6  0xcC24008b9e93A0B7eC891554F7999087E37f43B8   \n",
       "7  0x8D9129520186Dd744024Ca125690236560f759c2   \n",
       "8  0x751d5D2E111d4e841F680876D9E8ee601ADBf393   \n",
       "9  0xCc9A93278B7903d94D57009B14e3A1c684F5F607   \n",
       "\n",
       "                                         private_key  \n",
       "0  0x1228acff942e0b0927ee5c17fdab68fcafbfc806e35d...  \n",
       "1  0xada6bc666a9a375f288d41f577e34c068d1928c63576...  \n",
       "2  0xe766c366828100d691a7a9625e209e17ad3b7733345d...  \n",
       "3  0xb0f09767df837be2269bb0ad64c963c0f4eedfab0c58...  \n",
       "4  0x8d32e6be600194d42197330dc8a63317353335e2fe13...  \n",
       "5  0xe1e2750da1fe82d26aa939b2edfaacc2490a44eee56a...  \n",
       "6  0xdd9e9e606b999707b133c0b846b53411f5cd8cddaf2a...  \n",
       "7  0xc3a1a748ff71cb6ca89528402deca1a2c984ee0edc7c...  \n",
       "8  0x352e3e84db8416965d3c3b2fa22c4dd4c5700ef11e12...  \n",
       "9  0x848cc83acde5a5642d3e126508f47487bc0340786004...  "
      ]
     },
     "execution_count": 6,
     "metadata": {},
     "output_type": "execute_result"
    }
   ],
   "source": [
    "df"
   ]
  },
  {
   "cell_type": "markdown",
   "id": "93e2d6f8",
   "metadata": {},
   "source": [
    "Экспорт датафрейма в Excel:"
   ]
  },
  {
   "cell_type": "code",
   "execution_count": 7,
   "id": "6a3658b0",
   "metadata": {},
   "outputs": [],
   "source": [
    "writer_kernel = pd.ExcelWriter('ready_evm_accounts_var_1.xlsx', engine='xlsxwriter')\n",
    "df.to_excel(writer_kernel, index=False)\n",
    "writer_kernel.close()"
   ]
  },
  {
   "cell_type": "markdown",
   "id": "97bbb77d",
   "metadata": {},
   "source": [
    "#### Запись в txt"
   ]
  },
  {
   "cell_type": "markdown",
   "id": "865d6f26",
   "metadata": {},
   "source": [
    "Адрес и приватник записываются через запятую с новой строки:"
   ]
  },
  {
   "cell_type": "code",
   "execution_count": 8,
   "id": "80fc0f31",
   "metadata": {},
   "outputs": [],
   "source": [
    "with open('ready_evm_accounts_var_1.txt', 'w') as file:\n",
    "    for d in list_of_dicts:\n",
    "        file.write(f\"{d['address']},{d['private_key']}\\n\")"
   ]
  },
  {
   "cell_type": "markdown",
   "id": "dba39ee2",
   "metadata": {},
   "source": [
    "## Вариант 2 - создание сид-фраз, приватных ключей и публичных адресов"
   ]
  },
  {
   "cell_type": "markdown",
   "id": "b98a97ef",
   "metadata": {},
   "source": [
    "create-evm-wallets-var-2.py. В этом варианте для каждого аккаунта будут созданы сид-фразы, публичные адреса и приватные ключи."
   ]
  },
  {
   "cell_type": "markdown",
   "id": "778e5952",
   "metadata": {},
   "source": [
    "### Импорт библиотек"
   ]
  },
  {
   "cell_type": "code",
   "execution_count": 9,
   "id": "4ad2cc65",
   "metadata": {},
   "outputs": [],
   "source": [
    "from web3 import Web3\n",
    "import pandas as pd"
   ]
  },
  {
   "cell_type": "markdown",
   "id": "2af0b0b0",
   "metadata": {},
   "source": [
    "### Сколько аккаунтов генерировать"
   ]
  },
  {
   "cell_type": "code",
   "execution_count": 10,
   "id": "3c376e8c",
   "metadata": {},
   "outputs": [],
   "source": [
    "ACCOUNTS_QUANTITY = 10"
   ]
  },
  {
   "cell_type": "markdown",
   "id": "07dc3cd8",
   "metadata": {},
   "source": [
    "### Подключение"
   ]
  },
  {
   "cell_type": "code",
   "execution_count": 11,
   "id": "84709efd",
   "metadata": {},
   "outputs": [],
   "source": [
    "connection = Web3()"
   ]
  },
  {
   "cell_type": "markdown",
   "id": "55867e8f",
   "metadata": {},
   "source": [
    "### Создание аккаунтов, запись сид-фраз, публичных адресов и приватных ключей в excel или txt"
   ]
  },
  {
   "cell_type": "code",
   "execution_count": 12,
   "id": "ebf741fa",
   "metadata": {},
   "outputs": [],
   "source": [
    "connection.eth.account.enable_unaudited_hdwallet_features()"
   ]
  },
  {
   "cell_type": "code",
   "execution_count": 13,
   "id": "2014cee7",
   "metadata": {},
   "outputs": [
    {
     "name": "stdout",
     "output_type": "stream",
     "text": [
      "Account 1 \n",
      " Seed: pond member tribe rug praise truck flower kangaroo razor pitch badge junk \n",
      " Public: 0x97B21528e6AF5b26547208930a668E418a6BCd1D \n",
      " Private_key: 0xcb71ce3fffc8c2d57a40b6651dabf1f29b9867b2c291500332608f9fecc6ce1a \n",
      " --------------------------\n",
      "Account 2 \n",
      " Seed: where sing veteran company cup bless spike cat upset inflict old turn \n",
      " Public: 0x8A701dE8E9bB355478E30b97b65e1aD3446efa0d \n",
      " Private_key: 0x427cddcdc8e90bbc1624d961efd9d0775dd9091c3868e349d76a6e6a8a411e95 \n",
      " --------------------------\n",
      "Account 3 \n",
      " Seed: small lava winner employ shiver tooth increase ladder nephew squirrel piano uncover \n",
      " Public: 0xa59b6EDa193f778ba7eDF75F75AFa91DcbE68828 \n",
      " Private_key: 0x0b3481d347cc4e742057cd18e050d8a0414746fcfee8c3dcc7a6675bd91e1534 \n",
      " --------------------------\n",
      "Account 4 \n",
      " Seed: tip buzz candy cherry gold giraffe polar charge call federal gorilla sure \n",
      " Public: 0x9658FEb143418Bc9d52498CFb541328114f0C5Af \n",
      " Private_key: 0xc07889b9dc50564d2083186d7efdc3e1daf370eca13c5d91e98761bffe7d666d \n",
      " --------------------------\n",
      "Account 5 \n",
      " Seed: equal any document ready address vapor bicycle into favorite million carbon mesh \n",
      " Public: 0xe210A12a1470e41590775b367D504D2A20cDE548 \n",
      " Private_key: 0x8259a4f5d539b84309bed19353bcb48b28212256e2523ae66aa2d2a6f36d7de8 \n",
      " --------------------------\n",
      "Account 6 \n",
      " Seed: swap limit doctor unfold episode multiply pencil stereo member garbage derive tell \n",
      " Public: 0x88b0FA7AbeEB889491482e12787a7bc5663dAB13 \n",
      " Private_key: 0xc675b9ddd3bbe3709b1614d454a43c44f009bbdaae9f461ace33ef100b7a33e5 \n",
      " --------------------------\n",
      "Account 7 \n",
      " Seed: surge ozone catch what science segment firm sugar same sausage penalty mass \n",
      " Public: 0x0cAAA1458581D5AE63d34AF7A2E74b5b679C8f0C \n",
      " Private_key: 0x4d16ca450a44a5551c178eeeb65ff27e7301b83ca7276c826506eb73c000f3b1 \n",
      " --------------------------\n",
      "Account 8 \n",
      " Seed: excuse romance mad pond dismiss eagle unlock execute clown pigeon result despair \n",
      " Public: 0x6d1b4BfB1Ca297552Ee9fA0A469BDd33D0352602 \n",
      " Private_key: 0xf5c728204e27a427e71908572707bb72072283b3ffc724b4840883763cc499b6 \n",
      " --------------------------\n",
      "Account 9 \n",
      " Seed: patch fabric panther large razor cruel cliff stereo pepper garage diet divert \n",
      " Public: 0xF17D3C60A63117FF485047A1C56715D7cA68b97E \n",
      " Private_key: 0xe3604da01d77c3ad2934b4800faecb717075a860b8b9e53074eac98f69e1dc45 \n",
      " --------------------------\n",
      "Account 10 \n",
      " Seed: jacket harbor trash embrace honey flat buddy stable you verb lonely excuse \n",
      " Public: 0x93Dcd05b72b123B90EBa9890C50926BAEaBec6B2 \n",
      " Private_key: 0x5d8b1a9931c21e911d1f21a962d3a4b9dc59e52cc26d2ecfadd5704d82d8b33b \n",
      " --------------------------\n"
     ]
    }
   ],
   "source": [
    "list_of_dicts = []\n",
    "for number in range(ACCOUNTS_QUANTITY):\n",
    "    account = connection.eth.account.create_with_mnemonic()\n",
    "    seed_phrase = account[1]\n",
    "    address = account[0].address\n",
    "    private_key = account[0].key.hex()\n",
    "    \n",
    "    print('Account', number+1, '\\n',\n",
    "          'Seed:', seed_phrase, '\\n',\n",
    "          'Public:', address, '\\n',\n",
    "          'Private_key:', private_key, '\\n',\n",
    "          '--------------------------')\n",
    "    \n",
    "    dictionary = dict()\n",
    "    dictionary['seed_phrase'] = seed_phrase\n",
    "    dictionary['address'] = address\n",
    "    dictionary['private_key'] = private_key\n",
    "    \n",
    "    list_of_dicts.append(dictionary)"
   ]
  },
  {
   "cell_type": "markdown",
   "id": "f67f4d83",
   "metadata": {},
   "source": [
    "#### Запись в Excel"
   ]
  },
  {
   "cell_type": "markdown",
   "id": "671090b5",
   "metadata": {},
   "source": [
    "Из списка list_of_dicts создается датафрейм:"
   ]
  },
  {
   "cell_type": "code",
   "execution_count": 14,
   "id": "f45f2422",
   "metadata": {},
   "outputs": [],
   "source": [
    "df = pd.DataFrame.from_dict(list_of_dicts)"
   ]
  },
  {
   "cell_type": "code",
   "execution_count": 15,
   "id": "c2b22571",
   "metadata": {
    "scrolled": true
   },
   "outputs": [
    {
     "data": {
      "text/html": [
       "<div>\n",
       "<style scoped>\n",
       "    .dataframe tbody tr th:only-of-type {\n",
       "        vertical-align: middle;\n",
       "    }\n",
       "\n",
       "    .dataframe tbody tr th {\n",
       "        vertical-align: top;\n",
       "    }\n",
       "\n",
       "    .dataframe thead th {\n",
       "        text-align: right;\n",
       "    }\n",
       "</style>\n",
       "<table border=\"1\" class=\"dataframe\">\n",
       "  <thead>\n",
       "    <tr style=\"text-align: right;\">\n",
       "      <th></th>\n",
       "      <th>seed_phrase</th>\n",
       "      <th>address</th>\n",
       "      <th>private_key</th>\n",
       "    </tr>\n",
       "  </thead>\n",
       "  <tbody>\n",
       "    <tr>\n",
       "      <th>0</th>\n",
       "      <td>pond member tribe rug praise truck flower kang...</td>\n",
       "      <td>0x97B21528e6AF5b26547208930a668E418a6BCd1D</td>\n",
       "      <td>0xcb71ce3fffc8c2d57a40b6651dabf1f29b9867b2c291...</td>\n",
       "    </tr>\n",
       "    <tr>\n",
       "      <th>1</th>\n",
       "      <td>where sing veteran company cup bless spike cat...</td>\n",
       "      <td>0x8A701dE8E9bB355478E30b97b65e1aD3446efa0d</td>\n",
       "      <td>0x427cddcdc8e90bbc1624d961efd9d0775dd9091c3868...</td>\n",
       "    </tr>\n",
       "    <tr>\n",
       "      <th>2</th>\n",
       "      <td>small lava winner employ shiver tooth increase...</td>\n",
       "      <td>0xa59b6EDa193f778ba7eDF75F75AFa91DcbE68828</td>\n",
       "      <td>0x0b3481d347cc4e742057cd18e050d8a0414746fcfee8...</td>\n",
       "    </tr>\n",
       "    <tr>\n",
       "      <th>3</th>\n",
       "      <td>tip buzz candy cherry gold giraffe polar charg...</td>\n",
       "      <td>0x9658FEb143418Bc9d52498CFb541328114f0C5Af</td>\n",
       "      <td>0xc07889b9dc50564d2083186d7efdc3e1daf370eca13c...</td>\n",
       "    </tr>\n",
       "    <tr>\n",
       "      <th>4</th>\n",
       "      <td>equal any document ready address vapor bicycle...</td>\n",
       "      <td>0xe210A12a1470e41590775b367D504D2A20cDE548</td>\n",
       "      <td>0x8259a4f5d539b84309bed19353bcb48b28212256e252...</td>\n",
       "    </tr>\n",
       "    <tr>\n",
       "      <th>5</th>\n",
       "      <td>swap limit doctor unfold episode multiply penc...</td>\n",
       "      <td>0x88b0FA7AbeEB889491482e12787a7bc5663dAB13</td>\n",
       "      <td>0xc675b9ddd3bbe3709b1614d454a43c44f009bbdaae9f...</td>\n",
       "    </tr>\n",
       "    <tr>\n",
       "      <th>6</th>\n",
       "      <td>surge ozone catch what science segment firm su...</td>\n",
       "      <td>0x0cAAA1458581D5AE63d34AF7A2E74b5b679C8f0C</td>\n",
       "      <td>0x4d16ca450a44a5551c178eeeb65ff27e7301b83ca727...</td>\n",
       "    </tr>\n",
       "    <tr>\n",
       "      <th>7</th>\n",
       "      <td>excuse romance mad pond dismiss eagle unlock e...</td>\n",
       "      <td>0x6d1b4BfB1Ca297552Ee9fA0A469BDd33D0352602</td>\n",
       "      <td>0xf5c728204e27a427e71908572707bb72072283b3ffc7...</td>\n",
       "    </tr>\n",
       "    <tr>\n",
       "      <th>8</th>\n",
       "      <td>patch fabric panther large razor cruel cliff s...</td>\n",
       "      <td>0xF17D3C60A63117FF485047A1C56715D7cA68b97E</td>\n",
       "      <td>0xe3604da01d77c3ad2934b4800faecb717075a860b8b9...</td>\n",
       "    </tr>\n",
       "    <tr>\n",
       "      <th>9</th>\n",
       "      <td>jacket harbor trash embrace honey flat buddy s...</td>\n",
       "      <td>0x93Dcd05b72b123B90EBa9890C50926BAEaBec6B2</td>\n",
       "      <td>0x5d8b1a9931c21e911d1f21a962d3a4b9dc59e52cc26d...</td>\n",
       "    </tr>\n",
       "  </tbody>\n",
       "</table>\n",
       "</div>"
      ],
      "text/plain": [
       "                                         seed_phrase  \\\n",
       "0  pond member tribe rug praise truck flower kang...   \n",
       "1  where sing veteran company cup bless spike cat...   \n",
       "2  small lava winner employ shiver tooth increase...   \n",
       "3  tip buzz candy cherry gold giraffe polar charg...   \n",
       "4  equal any document ready address vapor bicycle...   \n",
       "5  swap limit doctor unfold episode multiply penc...   \n",
       "6  surge ozone catch what science segment firm su...   \n",
       "7  excuse romance mad pond dismiss eagle unlock e...   \n",
       "8  patch fabric panther large razor cruel cliff s...   \n",
       "9  jacket harbor trash embrace honey flat buddy s...   \n",
       "\n",
       "                                      address  \\\n",
       "0  0x97B21528e6AF5b26547208930a668E418a6BCd1D   \n",
       "1  0x8A701dE8E9bB355478E30b97b65e1aD3446efa0d   \n",
       "2  0xa59b6EDa193f778ba7eDF75F75AFa91DcbE68828   \n",
       "3  0x9658FEb143418Bc9d52498CFb541328114f0C5Af   \n",
       "4  0xe210A12a1470e41590775b367D504D2A20cDE548   \n",
       "5  0x88b0FA7AbeEB889491482e12787a7bc5663dAB13   \n",
       "6  0x0cAAA1458581D5AE63d34AF7A2E74b5b679C8f0C   \n",
       "7  0x6d1b4BfB1Ca297552Ee9fA0A469BDd33D0352602   \n",
       "8  0xF17D3C60A63117FF485047A1C56715D7cA68b97E   \n",
       "9  0x93Dcd05b72b123B90EBa9890C50926BAEaBec6B2   \n",
       "\n",
       "                                         private_key  \n",
       "0  0xcb71ce3fffc8c2d57a40b6651dabf1f29b9867b2c291...  \n",
       "1  0x427cddcdc8e90bbc1624d961efd9d0775dd9091c3868...  \n",
       "2  0x0b3481d347cc4e742057cd18e050d8a0414746fcfee8...  \n",
       "3  0xc07889b9dc50564d2083186d7efdc3e1daf370eca13c...  \n",
       "4  0x8259a4f5d539b84309bed19353bcb48b28212256e252...  \n",
       "5  0xc675b9ddd3bbe3709b1614d454a43c44f009bbdaae9f...  \n",
       "6  0x4d16ca450a44a5551c178eeeb65ff27e7301b83ca727...  \n",
       "7  0xf5c728204e27a427e71908572707bb72072283b3ffc7...  \n",
       "8  0xe3604da01d77c3ad2934b4800faecb717075a860b8b9...  \n",
       "9  0x5d8b1a9931c21e911d1f21a962d3a4b9dc59e52cc26d...  "
      ]
     },
     "execution_count": 15,
     "metadata": {},
     "output_type": "execute_result"
    }
   ],
   "source": [
    "df"
   ]
  },
  {
   "cell_type": "markdown",
   "id": "4a2b00a0",
   "metadata": {},
   "source": [
    "Экспорт датафрейма в Excel:"
   ]
  },
  {
   "cell_type": "code",
   "execution_count": 16,
   "id": "6fd2e7ad",
   "metadata": {},
   "outputs": [],
   "source": [
    "writer_kernel = pd.ExcelWriter('ready_evm_accounts_var_2.xlsx', engine='xlsxwriter')\n",
    "df.to_excel(writer_kernel, index=False)\n",
    "writer_kernel.close()"
   ]
  },
  {
   "cell_type": "markdown",
   "id": "6a7f4d6c",
   "metadata": {},
   "source": [
    "#### Запись в txt"
   ]
  },
  {
   "cell_type": "markdown",
   "id": "65ca747f",
   "metadata": {},
   "source": [
    " Сид-фраза, адрес и приватник записываются через запятую, каждый блок отделен точкой с запятой:"
   ]
  },
  {
   "cell_type": "code",
   "execution_count": 17,
   "id": "5f850cf4",
   "metadata": {},
   "outputs": [],
   "source": [
    "with open('ready_evm_accounts_var_2.txt', 'w') as file:\n",
    "    for d in list_of_dicts:\n",
    "        file.write(f\"{d['seed_phrase']},{d['address']},{d['private_key']};\\n\")"
   ]
  },
  {
   "cell_type": "markdown",
   "id": "4b05b6bd",
   "metadata": {},
   "source": [
    "## Вариант 3 - создание 1 сид-фразы и генерация из нее адресов и приватников"
   ]
  },
  {
   "cell_type": "markdown",
   "id": "4851757a",
   "metadata": {},
   "source": [
    "create-evm-wallets-var-3.py. В этом варианте создается 1 сид-фраза, а из нее генерируются публичные адреса и приватные ключи."
   ]
  },
  {
   "cell_type": "markdown",
   "id": "e3a864e0",
   "metadata": {},
   "source": [
    "### Импорт библиотек"
   ]
  },
  {
   "cell_type": "code",
   "execution_count": 18,
   "id": "f9f4db2e",
   "metadata": {},
   "outputs": [],
   "source": [
    "from web3 import Web3\n",
    "import pandas as pd"
   ]
  },
  {
   "cell_type": "markdown",
   "id": "458e4da8",
   "metadata": {},
   "source": [
    "### Сколько аккаунтов генерировать"
   ]
  },
  {
   "cell_type": "code",
   "execution_count": 19,
   "id": "1673f88d",
   "metadata": {},
   "outputs": [],
   "source": [
    "ACCOUNTS_QUANTITY = 10"
   ]
  },
  {
   "cell_type": "markdown",
   "id": "73c7f627",
   "metadata": {},
   "source": [
    "### Подключение"
   ]
  },
  {
   "cell_type": "code",
   "execution_count": 20,
   "id": "84524c8a",
   "metadata": {},
   "outputs": [],
   "source": [
    "connection = Web3()"
   ]
  },
  {
   "cell_type": "markdown",
   "id": "4f78f6e7",
   "metadata": {},
   "source": [
    "### Создание аккаунтов, запись сид-фразы, публичных адресов и приватных ключей в excel или txt"
   ]
  },
  {
   "cell_type": "code",
   "execution_count": 21,
   "id": "2d56c9ed",
   "metadata": {},
   "outputs": [],
   "source": [
    "connection.eth.account.enable_unaudited_hdwallet_features()"
   ]
  },
  {
   "cell_type": "markdown",
   "id": "23568974",
   "metadata": {},
   "source": [
    "Создание сид-фразы:"
   ]
  },
  {
   "cell_type": "code",
   "execution_count": 22,
   "id": "c6013be9",
   "metadata": {},
   "outputs": [],
   "source": [
    "mnemonic = connection.eth.account.create_with_mnemonic()[1]"
   ]
  },
  {
   "cell_type": "code",
   "execution_count": 23,
   "id": "8b8981b6",
   "metadata": {},
   "outputs": [
    {
     "data": {
      "text/plain": [
       "'chicken beauty squirrel moment doctor perfect since race much sign neutral rigid'"
      ]
     },
     "execution_count": 23,
     "metadata": {},
     "output_type": "execute_result"
    }
   ],
   "source": [
    "mnemonic"
   ]
  },
  {
   "cell_type": "markdown",
   "id": "c9dc3fa3",
   "metadata": {},
   "source": [
    "Генерация кошельков из сид-фразы:"
   ]
  },
  {
   "cell_type": "code",
   "execution_count": 24,
   "id": "7ce479d9",
   "metadata": {
    "scrolled": false
   },
   "outputs": [
    {
     "name": "stdout",
     "output_type": "stream",
     "text": [
      "Account 1 \n",
      " Public: 0xF124aBD0160AB0792aA90a4B9aEE501C59FC7f7E \n",
      " Private_key: 0xe2fff0618ef226b1c1198135f0560a7598256a665b376aafcecb0c99df9f2641 \n",
      " --------------------------\n",
      "Account 2 \n",
      " Public: 0x0F47F0b05e99DBDA3A665746d6ebf8eCd5C6A90C \n",
      " Private_key: 0xbddc8dce75a04a6eba15842cd59863c46c6b0cadeefa9b7467a270a222e9cedb \n",
      " --------------------------\n",
      "Account 3 \n",
      " Public: 0xd6F30DE24CDb296C1073f8D363C1935051766A35 \n",
      " Private_key: 0x135dfec16e2ec39b3d97fccd927dbeddc84b9decda6b8a0fe6435ef0d049ca75 \n",
      " --------------------------\n",
      "Account 4 \n",
      " Public: 0xF037CE1a1b3E415782a19f66365275d90f2aC65D \n",
      " Private_key: 0x2b1a02d527baa10b48daa3d39a708fa93dfa0221b8fb067a2f136d1f00dc89fd \n",
      " --------------------------\n",
      "Account 5 \n",
      " Public: 0xEFf01B2837B9A9638be595769b261feC900C521A \n",
      " Private_key: 0xc5556da18f1ad2137b4c4e11c6c21a7baa60156cca9bd3aaa29d24ae1434701d \n",
      " --------------------------\n",
      "Account 6 \n",
      " Public: 0xf43A2770bC6F9e16813086130031621db1530cf6 \n",
      " Private_key: 0x44edd9976a96b256a2936b5580f8b23f220e5cd77747bf96b159925cace641b0 \n",
      " --------------------------\n",
      "Account 7 \n",
      " Public: 0x77B522a73D2Fb0bbdbC94A0592Bb1414bD287323 \n",
      " Private_key: 0x08e0c01224329238568ffa830563c0840a99373263112edf2232adf8a90338fd \n",
      " --------------------------\n",
      "Account 8 \n",
      " Public: 0x69e5f046eEA99Ed2F877470532C1B95Ad9eea156 \n",
      " Private_key: 0xe3717c569b23c14a8cbde59d939dcfd58e717e209746b52bbe297948fd842104 \n",
      " --------------------------\n",
      "Account 9 \n",
      " Public: 0x361493a9Fb38AE4F78C2949f362B5E408aa98003 \n",
      " Private_key: 0xb35c5b026ad5295039b9acf884016bb4dc0850c955db79a7c05a836d62ab6808 \n",
      " --------------------------\n",
      "Account 10 \n",
      " Public: 0x391005B00583CE5F0A506BEAf7FCF251f01826BB \n",
      " Private_key: 0x0a6f88459aaf031d2960680080d25b6d7b9d3c1b4a6c8510c9e134228f9818ba \n",
      " --------------------------\n"
     ]
    }
   ],
   "source": [
    "list_of_dicts = []\n",
    "for number in range(ACCOUNTS_QUANTITY):\n",
    "    account = connection.eth.account.from_mnemonic(mnemonic, \n",
    "                                                   account_path=f\"m/44'/60'/0'/0/{number}\")\n",
    "    address = account.address\n",
    "    private_key = account.key.hex()\n",
    "    \n",
    "    print('Account', number+1, '\\n',\n",
    "          'Public:', address, '\\n',\n",
    "          'Private_key:', private_key, '\\n',\n",
    "          '--------------------------')\n",
    "    \n",
    "    dictionary = dict()\n",
    "    dictionary['address'] = address\n",
    "    dictionary['private_key'] = private_key\n",
    "    \n",
    "    list_of_dicts.append(dictionary)"
   ]
  },
  {
   "cell_type": "markdown",
   "id": "9b66454b",
   "metadata": {},
   "source": [
    "#### Запись в Excel"
   ]
  },
  {
   "cell_type": "markdown",
   "id": "1dbc6957",
   "metadata": {},
   "source": [
    "Из списка list_of_dicts создается датафрейм:"
   ]
  },
  {
   "cell_type": "code",
   "execution_count": 25,
   "id": "151f7d2a",
   "metadata": {},
   "outputs": [],
   "source": [
    "df = pd.DataFrame.from_dict(list_of_dicts)"
   ]
  },
  {
   "cell_type": "markdown",
   "id": "773c2481",
   "metadata": {},
   "source": [
    "Экспорт датафрейма в Excel:"
   ]
  },
  {
   "cell_type": "code",
   "execution_count": 26,
   "id": "25fda2be",
   "metadata": {},
   "outputs": [],
   "source": [
    "writer_kernel = pd.ExcelWriter('ready_evm_accounts_var_3.xlsx', engine='xlsxwriter')\n",
    "df.to_excel(writer_kernel, index=False)\n",
    "writer_kernel.close()"
   ]
  },
  {
   "cell_type": "markdown",
   "id": "6ba65189",
   "metadata": {},
   "source": [
    "#### Запись в txt"
   ]
  },
  {
   "cell_type": "markdown",
   "id": "cb97a1b4",
   "metadata": {},
   "source": [
    " Адрес и приватник записываются через запятую, каждый блок отделен точкой с запятой:"
   ]
  },
  {
   "cell_type": "code",
   "execution_count": 27,
   "id": "d0d0022f",
   "metadata": {},
   "outputs": [],
   "source": [
    "with open('ready_evm_accounts_var_3.txt', 'w') as file:\n",
    "    for d in list_of_dicts:\n",
    "        file.write(f\"{d['address']},{d['private_key']};\\n\")"
   ]
  },
  {
   "cell_type": "markdown",
   "id": "ddb727d1",
   "metadata": {},
   "source": [
    "### Другой вариант экспорта аккаунтов с одной сид-фразой"
   ]
  },
  {
   "cell_type": "markdown",
   "id": "42bff63d",
   "metadata": {},
   "source": [
    "#### Запись в Excel"
   ]
  },
  {
   "cell_type": "markdown",
   "id": "fa06f145",
   "metadata": {},
   "source": [
    "Из списка list_of_dicts создается датафрейм:"
   ]
  },
  {
   "cell_type": "code",
   "execution_count": 28,
   "id": "bf58fffc",
   "metadata": {},
   "outputs": [],
   "source": [
    "df = pd.DataFrame.from_dict(list_of_dicts)"
   ]
  },
  {
   "cell_type": "markdown",
   "id": "08b44469",
   "metadata": {},
   "source": [
    "Добавляется столбец, в котором записана общая для всех аккаунтов сид-фраза:"
   ]
  },
  {
   "cell_type": "code",
   "execution_count": 29,
   "id": "6b1af476",
   "metadata": {},
   "outputs": [],
   "source": [
    "df['seed'] = mnemonic"
   ]
  },
  {
   "cell_type": "markdown",
   "id": "63c1230c",
   "metadata": {},
   "source": [
    "Создается группировка:"
   ]
  },
  {
   "cell_type": "code",
   "execution_count": 30,
   "id": "357ffb29",
   "metadata": {},
   "outputs": [],
   "source": [
    "pivot_df = df.pivot_table(index=['seed', 'address', 'private_key'])"
   ]
  },
  {
   "cell_type": "code",
   "execution_count": 31,
   "id": "bfffdb30",
   "metadata": {},
   "outputs": [
    {
     "data": {
      "text/html": [
       "<div>\n",
       "<style scoped>\n",
       "    .dataframe tbody tr th:only-of-type {\n",
       "        vertical-align: middle;\n",
       "    }\n",
       "\n",
       "    .dataframe tbody tr th {\n",
       "        vertical-align: top;\n",
       "    }\n",
       "\n",
       "    .dataframe thead th {\n",
       "        text-align: right;\n",
       "    }\n",
       "</style>\n",
       "<table border=\"1\" class=\"dataframe\">\n",
       "  <thead>\n",
       "    <tr style=\"text-align: right;\">\n",
       "      <th></th>\n",
       "      <th></th>\n",
       "      <th></th>\n",
       "    </tr>\n",
       "    <tr>\n",
       "      <th>seed</th>\n",
       "      <th>address</th>\n",
       "      <th>private_key</th>\n",
       "    </tr>\n",
       "  </thead>\n",
       "  <tbody>\n",
       "    <tr>\n",
       "      <th rowspan=\"10\" valign=\"top\">chicken beauty squirrel moment doctor perfect since race much sign neutral rigid</th>\n",
       "      <th>0x0F47F0b05e99DBDA3A665746d6ebf8eCd5C6A90C</th>\n",
       "      <th>0xbddc8dce75a04a6eba15842cd59863c46c6b0cadeefa9b7467a270a222e9cedb</th>\n",
       "    </tr>\n",
       "    <tr>\n",
       "      <th>0x361493a9Fb38AE4F78C2949f362B5E408aa98003</th>\n",
       "      <th>0xb35c5b026ad5295039b9acf884016bb4dc0850c955db79a7c05a836d62ab6808</th>\n",
       "    </tr>\n",
       "    <tr>\n",
       "      <th>0x391005B00583CE5F0A506BEAf7FCF251f01826BB</th>\n",
       "      <th>0x0a6f88459aaf031d2960680080d25b6d7b9d3c1b4a6c8510c9e134228f9818ba</th>\n",
       "    </tr>\n",
       "    <tr>\n",
       "      <th>0x69e5f046eEA99Ed2F877470532C1B95Ad9eea156</th>\n",
       "      <th>0xe3717c569b23c14a8cbde59d939dcfd58e717e209746b52bbe297948fd842104</th>\n",
       "    </tr>\n",
       "    <tr>\n",
       "      <th>0x77B522a73D2Fb0bbdbC94A0592Bb1414bD287323</th>\n",
       "      <th>0x08e0c01224329238568ffa830563c0840a99373263112edf2232adf8a90338fd</th>\n",
       "    </tr>\n",
       "    <tr>\n",
       "      <th>0xEFf01B2837B9A9638be595769b261feC900C521A</th>\n",
       "      <th>0xc5556da18f1ad2137b4c4e11c6c21a7baa60156cca9bd3aaa29d24ae1434701d</th>\n",
       "    </tr>\n",
       "    <tr>\n",
       "      <th>0xF037CE1a1b3E415782a19f66365275d90f2aC65D</th>\n",
       "      <th>0x2b1a02d527baa10b48daa3d39a708fa93dfa0221b8fb067a2f136d1f00dc89fd</th>\n",
       "    </tr>\n",
       "    <tr>\n",
       "      <th>0xF124aBD0160AB0792aA90a4B9aEE501C59FC7f7E</th>\n",
       "      <th>0xe2fff0618ef226b1c1198135f0560a7598256a665b376aafcecb0c99df9f2641</th>\n",
       "    </tr>\n",
       "    <tr>\n",
       "      <th>0xd6F30DE24CDb296C1073f8D363C1935051766A35</th>\n",
       "      <th>0x135dfec16e2ec39b3d97fccd927dbeddc84b9decda6b8a0fe6435ef0d049ca75</th>\n",
       "    </tr>\n",
       "    <tr>\n",
       "      <th>0xf43A2770bC6F9e16813086130031621db1530cf6</th>\n",
       "      <th>0x44edd9976a96b256a2936b5580f8b23f220e5cd77747bf96b159925cace641b0</th>\n",
       "    </tr>\n",
       "  </tbody>\n",
       "</table>\n",
       "</div>"
      ],
      "text/plain": [
       "Empty DataFrame\n",
       "Columns: []\n",
       "Index: [(chicken beauty squirrel moment doctor perfect since race much sign neutral rigid, 0x0F47F0b05e99DBDA3A665746d6ebf8eCd5C6A90C, 0xbddc8dce75a04a6eba15842cd59863c46c6b0cadeefa9b7467a270a222e9cedb), (chicken beauty squirrel moment doctor perfect since race much sign neutral rigid, 0x361493a9Fb38AE4F78C2949f362B5E408aa98003, 0xb35c5b026ad5295039b9acf884016bb4dc0850c955db79a7c05a836d62ab6808), (chicken beauty squirrel moment doctor perfect since race much sign neutral rigid, 0x391005B00583CE5F0A506BEAf7FCF251f01826BB, 0x0a6f88459aaf031d2960680080d25b6d7b9d3c1b4a6c8510c9e134228f9818ba), (chicken beauty squirrel moment doctor perfect since race much sign neutral rigid, 0x69e5f046eEA99Ed2F877470532C1B95Ad9eea156, 0xe3717c569b23c14a8cbde59d939dcfd58e717e209746b52bbe297948fd842104), (chicken beauty squirrel moment doctor perfect since race much sign neutral rigid, 0x77B522a73D2Fb0bbdbC94A0592Bb1414bD287323, 0x08e0c01224329238568ffa830563c0840a99373263112edf2232adf8a90338fd), (chicken beauty squirrel moment doctor perfect since race much sign neutral rigid, 0xEFf01B2837B9A9638be595769b261feC900C521A, 0xc5556da18f1ad2137b4c4e11c6c21a7baa60156cca9bd3aaa29d24ae1434701d), (chicken beauty squirrel moment doctor perfect since race much sign neutral rigid, 0xF037CE1a1b3E415782a19f66365275d90f2aC65D, 0x2b1a02d527baa10b48daa3d39a708fa93dfa0221b8fb067a2f136d1f00dc89fd), (chicken beauty squirrel moment doctor perfect since race much sign neutral rigid, 0xF124aBD0160AB0792aA90a4B9aEE501C59FC7f7E, 0xe2fff0618ef226b1c1198135f0560a7598256a665b376aafcecb0c99df9f2641), (chicken beauty squirrel moment doctor perfect since race much sign neutral rigid, 0xd6F30DE24CDb296C1073f8D363C1935051766A35, 0x135dfec16e2ec39b3d97fccd927dbeddc84b9decda6b8a0fe6435ef0d049ca75), (chicken beauty squirrel moment doctor perfect since race much sign neutral rigid, 0xf43A2770bC6F9e16813086130031621db1530cf6, 0x44edd9976a96b256a2936b5580f8b23f220e5cd77747bf96b159925cace641b0)]"
      ]
     },
     "execution_count": 31,
     "metadata": {},
     "output_type": "execute_result"
    }
   ],
   "source": [
    "pivot_df"
   ]
  },
  {
   "cell_type": "markdown",
   "id": "0acdf622",
   "metadata": {},
   "source": [
    "Экспорт датафрейма в Excel:"
   ]
  },
  {
   "cell_type": "code",
   "execution_count": 32,
   "id": "5cd24812",
   "metadata": {},
   "outputs": [],
   "source": [
    "writer_kernel = pd.ExcelWriter('ready_evm_accounts_var_3_global_seed.xlsx', engine='xlsxwriter')\n",
    "pivot_df.to_excel(writer_kernel)\n",
    "writer_kernel.close()"
   ]
  },
  {
   "cell_type": "markdown",
   "id": "094462f2",
   "metadata": {},
   "source": [
    "#### Запись в txt"
   ]
  },
  {
   "cell_type": "markdown",
   "id": "cd286047",
   "metadata": {},
   "source": [
    "Записывается сид-фраза, отделяется линией. Адрес и приватник записываются через запятую, каждый блок отделен точкой с запятой:"
   ]
  },
  {
   "cell_type": "code",
   "execution_count": 33,
   "id": "bf7332c0",
   "metadata": {},
   "outputs": [],
   "source": [
    "with open('ready_evm_accounts_var_3_global_seed.txt', 'w') as file:\n",
    "    file.write(f'{mnemonic}, \\n --------------- \\n \\n')\n",
    "    for d in list_of_dicts:\n",
    "        file.write(f\"{d['address']},{d['private_key']};\\n\")"
   ]
  }
 ],
 "metadata": {
  "kernelspec": {
   "display_name": "Python 3",
   "language": "python",
   "name": "python3"
  },
  "language_info": {
   "codemirror_mode": {
    "name": "ipython",
    "version": 3
   },
   "file_extension": ".py",
   "mimetype": "text/x-python",
   "name": "python",
   "nbconvert_exporter": "python",
   "pygments_lexer": "ipython3",
   "version": "3.7.9"
  }
 },
 "nbformat": 4,
 "nbformat_minor": 5
}
